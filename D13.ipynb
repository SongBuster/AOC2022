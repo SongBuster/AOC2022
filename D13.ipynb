{
  "nbformat": 4,
  "nbformat_minor": 0,
  "metadata": {
    "colab": {
      "provenance": [],
      "authorship_tag": "ABX9TyO3isQb/PNN4iLkbj4JQh6/",
      "include_colab_link": true
    },
    "kernelspec": {
      "name": "python3",
      "display_name": "Python 3"
    },
    "language_info": {
      "name": "python"
    }
  },
  "cells": [
    {
      "cell_type": "markdown",
      "metadata": {
        "id": "view-in-github",
        "colab_type": "text"
      },
      "source": [
        "<a href=\"https://colab.research.google.com/github/SongBuster/AOC2022/blob/branch/D13.ipynb\" target=\"_parent\"><img src=\"https://colab.research.google.com/assets/colab-badge.svg\" alt=\"Open In Colab\"/></a>"
      ]
    },
    {
      "cell_type": "code",
      "execution_count": 27,
      "metadata": {
        "id": "j8V3V3jBvia0"
      },
      "outputs": [],
      "source": [
        "file_content = open(\"inputD13\",\"r\").read()\n",
        "\n",
        "pairs = file_content.split(\"\\n\\n\")\n"
      ]
    },
    {
      "cell_type": "code",
      "source": [
        "def compare_pair(left, right):\n",
        "\n",
        "    #print (f\"Entering with {left} and {right}\")\n",
        "\n",
        "    if type(left) != type([]) and type(right) !=  type([]):\n",
        "        #print (f\"Returning {left - right}\")\n",
        "        return left - right\n",
        "    else:\n",
        "        if type(left) != type([]):\n",
        "            left = [left]\n",
        "        if type(right) != type([]):\n",
        "            right = [right]\n",
        "        \n",
        "        result = 0\n",
        "        list_index = -1\n",
        "        while result == 0:\n",
        "            list_index += 1\n",
        "            if list_index >= len(left) and list_index < len(right):\n",
        "                return -1\n",
        "            elif list_index < len(left) and list_index >= len(right):\n",
        "                return 1\n",
        "            elif list_index >= len(left) and list_index >= len(right):\n",
        "                return 0\n",
        "            else: \n",
        "                result = compare_pair(left[list_index], right[list_index])\n",
        "            \n",
        "        return result\n"
      ],
      "metadata": {
        "id": "ObE9nAK14a6X"
      },
      "execution_count": 28,
      "outputs": []
    },
    {
      "cell_type": "code",
      "source": [
        "import ast\n",
        "\n",
        "right_order = []\n",
        "index = 0\n",
        "for pair in pairs:\n",
        "    left = ast.literal_eval(pair.split(\"\\n\")[0])\n",
        "    right = ast.literal_eval(pair.split(\"\\n\")[1])\n",
        "    index += 1\n",
        "\n",
        "    #print (f\"comparing {left} and {right}\")\n",
        "    if compare_pair(left, right) < 0:\n",
        "        right_order.append(index)\n",
        "\n",
        "print(f\"Part 1. The sum are: {sum(right_order)}\")"
      ],
      "metadata": {
        "colab": {
          "base_uri": "https://localhost:8080/"
        },
        "id": "NCMlGQtt2Llw",
        "outputId": "2dcf974e-97bd-4ec0-d1d1-539e5680a430"
      },
      "execution_count": 29,
      "outputs": [
        {
          "output_type": "stream",
          "name": "stdout",
          "text": [
            "Part 1. The sum are: 6484\n"
          ]
        }
      ]
    },
    {
      "cell_type": "code",
      "source": [
        "from copy import deepcopy\n",
        "\n",
        "def sort_algorithm(packets):\n",
        "\n",
        "    sorted = deepcopy(packets)\n",
        "    size = len(packets)\n",
        "\n",
        "    for i in range(size):\n",
        "        already_sorted = True\n",
        "        for j in range(size - i - 1):\n",
        "            res = compare_pair(sorted[j], sorted[j+1])\n",
        "            #print (f\"comparing {sorted[j]} and {sorted[j+1]} with result {res}\") \n",
        "            if res > 0:\n",
        "                sorted[j] , sorted[j+1] = sorted[j+1] , sorted[j]\n",
        "                already_sorted = False\n",
        "        if already_sorted:\n",
        "            return sorted\n",
        "\n",
        "\n",
        "    return sorted "
      ],
      "metadata": {
        "id": "7PsurO4oFBAh"
      },
      "execution_count": 30,
      "outputs": []
    },
    {
      "cell_type": "code",
      "source": [
        "packets = []\n",
        "for pair in pairs:\n",
        "    pair1 = ast.literal_eval(pair.split(\"\\n\")[0])\n",
        "    pair2 = ast.literal_eval(pair.split(\"\\n\")[1])\n",
        "\n",
        "    packets.append(pair1)\n",
        "    packets.append(pair2)\n",
        "\n",
        "packets.append([[2]])\n",
        "packets.append([[6]])\n",
        "\n",
        "sorted_packets = sort_algorithm(packets)\n",
        "\n",
        "print (f\"Part 2. The decoder key is: {(sorted_packets.index([[2]])+1) * (sorted_packets.index([[6]])+1)}\")"
      ],
      "metadata": {
        "colab": {
          "base_uri": "https://localhost:8080/"
        },
        "id": "7fHiXyWPFegM",
        "outputId": "0f30008f-d782-41dd-b714-199ea55818f6"
      },
      "execution_count": 33,
      "outputs": [
        {
          "output_type": "stream",
          "name": "stdout",
          "text": [
            "Part 2. The decoder key is: 19305\n"
          ]
        }
      ]
    }
  ]
}