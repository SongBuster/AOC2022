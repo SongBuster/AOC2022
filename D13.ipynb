{
  "nbformat": 4,
  "nbformat_minor": 0,
  "metadata": {
    "colab": {
      "provenance": [],
      "authorship_tag": "ABX9TyNhfWLor6VRpF4zMG74Uhgo",
      "include_colab_link": true
    },
    "kernelspec": {
      "name": "python3",
      "display_name": "Python 3"
    },
    "language_info": {
      "name": "python"
    }
  },
  "cells": [
    {
      "cell_type": "markdown",
      "metadata": {
        "id": "view-in-github",
        "colab_type": "text"
      },
      "source": [
        "<a href=\"https://colab.research.google.com/github/SongBuster/AOC2022/blob/D12/D13.ipynb\" target=\"_parent\"><img src=\"https://colab.research.google.com/assets/colab-badge.svg\" alt=\"Open In Colab\"/></a>"
      ]
    },
    {
      "cell_type": "code",
      "execution_count": 75,
      "metadata": {
        "id": "j8V3V3jBvia0"
      },
      "outputs": [],
      "source": [
        "file_content = open(\"inputD13\",\"r\").read()\n",
        "\n",
        "pairs = file_content.split(\"\\n\\n\")\n"
      ]
    },
    {
      "cell_type": "code",
      "source": [
        "def compare_pair(left, right):\n",
        "\n",
        "    #print (f\"Entering with {left} and {right}\")\n",
        "\n",
        "    if type(left) != type([]) and type(right) !=  type([]):\n",
        "        #print (f\"Returning {left - right}\")\n",
        "        return left - right\n",
        "    else:\n",
        "        if type(left) != type([]):\n",
        "            left = [left]\n",
        "        if type(right) != type([]):\n",
        "            right = [right]\n",
        "        \n",
        "        result = 0\n",
        "        list_index = -1\n",
        "        while result == 0:\n",
        "            list_index += 1\n",
        "            if list_index >= len(left) and list_index < len(right):\n",
        "                return -1\n",
        "            elif list_index < len(left) and list_index >= len(right):\n",
        "                return 1\n",
        "            elif list_index >= len(left) and list_index >= len(right):\n",
        "                return result\n",
        "            else: \n",
        "                result = compare_pair(left[list_index], right[list_index])\n",
        "            \n",
        "        return result\n"
      ],
      "metadata": {
        "id": "ObE9nAK14a6X"
      },
      "execution_count": 76,
      "outputs": []
    },
    {
      "cell_type": "code",
      "source": [
        "import ast\n",
        "\n",
        "right_order = []\n",
        "index = 0\n",
        "for pair in pairs:\n",
        "    left = ast.literal_eval(pair.split(\"\\n\")[0])\n",
        "    right = ast.literal_eval(pair.split(\"\\n\")[1])\n",
        "    index += 1\n",
        "\n",
        "    #print (f\"comparing {left} and {right}\")\n",
        "    if compare_pair(left, right) < 0:\n",
        "        right_order.append(index)\n",
        "\n",
        "print(f\"Part 1. The sum are: {sum(right_order)}\")"
      ],
      "metadata": {
        "colab": {
          "base_uri": "https://localhost:8080/"
        },
        "id": "NCMlGQtt2Llw",
        "outputId": "43217201-db91-4489-bf13-56f0e4f571e5"
      },
      "execution_count": 77,
      "outputs": [
        {
          "output_type": "stream",
          "name": "stdout",
          "text": [
            "Part 1. The sum are: 6484\n"
          ]
        }
      ]
    }
  ]
}